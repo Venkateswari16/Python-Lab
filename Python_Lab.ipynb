{
  "nbformat": 4,
  "nbformat_minor": 0,
  "metadata": {
    "colab": {
      "provenance": [],
      "authorship_tag": "ABX9TyN4jX5Rbsei1zOBfTGwIWV/",
      "include_colab_link": true
    },
    "kernelspec": {
      "name": "python3",
      "display_name": "Python 3"
    },
    "language_info": {
      "name": "python"
    }
  },
  "cells": [
    {
      "cell_type": "markdown",
      "metadata": {
        "id": "view-in-github",
        "colab_type": "text"
      },
      "source": [
        "<a href=\"https://colab.research.google.com/github/Venkateswari16/Python-Lab/blob/main/Python_Lab.ipynb\" target=\"_parent\"><img src=\"https://colab.research.google.com/assets/colab-badge.svg\" alt=\"Open In Colab\"/></a>"
      ]
    },
    {
      "cell_type": "code",
      "execution_count": null,
      "metadata": {
        "colab": {
          "base_uri": "https://localhost:8080/"
        },
        "id": "bxPUvyE0Dr-r",
        "outputId": "0eb59252-3657-4737-eb2e-0e480a02b2e3"
      },
      "outputs": [
        {
          "output_type": "stream",
          "name": "stdout",
          "text": [
            "b is bigger\n"
          ]
        }
      ],
      "source": [
        "a=10\n",
        "b=14\n",
        "c=12\n",
        "if(a>b and a>c):\n",
        "    print(\"a is bigger\")\n",
        "elif(b>a and b>c):\n",
        "    print(\"b is bigger\")\n",
        "else:\n",
        "    print(\"c is bigger\")"
      ]
    },
    {
      "cell_type": "code",
      "source": [
        "lower=2\n",
        "upper=10\n",
        "print(\"prime numbers between\",lower,\",\",upper)\n",
        "for num in range(lower, upper-1):\n",
        "    if num>1:\n",
        "        for i in range(2,num):\n",
        "            if(num%i)==0:\n",
        "                break\n",
        "        else:\n",
        "            print(num)"
      ],
      "metadata": {
        "id": "4jySoQLhD1-F",
        "outputId": "86bbf304-0bbe-45f9-8778-d02f0249fc86",
        "colab": {
          "base_uri": "https://localhost:8080/"
        }
      },
      "execution_count": null,
      "outputs": [
        {
          "output_type": "stream",
          "name": "stdout",
          "text": [
            "prime numbers between 2 , 10\n",
            "2\n",
            "3\n",
            "5\n",
            "7\n"
          ]
        }
      ]
    }
  ]
}