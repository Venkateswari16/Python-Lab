{
  "nbformat": 4,
  "nbformat_minor": 0,
  "metadata": {
    "colab": {
      "provenance": [],
      "authorship_tag": "ABX9TyNfzxmogCBOaIIJGE6LIWKE",
      "include_colab_link": true
    },
    "kernelspec": {
      "name": "python3",
      "display_name": "Python 3"
    },
    "language_info": {
      "name": "python"
    }
  },
  "cells": [
    {
      "cell_type": "markdown",
      "metadata": {
        "id": "view-in-github",
        "colab_type": "text"
      },
      "source": [
        "<a href=\"https://colab.research.google.com/github/Venkateswari16/Python-Lab/blob/main/Python_Lab.ipynb\" target=\"_parent\"><img src=\"https://colab.research.google.com/assets/colab-badge.svg\" alt=\"Open In Colab\"/></a>"
      ]
    },
    {
      "cell_type": "code",
      "execution_count": null,
      "metadata": {
        "colab": {
          "base_uri": "https://localhost:8080/"
        },
        "id": "bxPUvyE0Dr-r",
        "outputId": "0eb59252-3657-4737-eb2e-0e480a02b2e3"
      },
      "outputs": [
        {
          "output_type": "stream",
          "name": "stdout",
          "text": [
            "b is bigger\n"
          ]
        }
      ],
      "source": [
        "a=10\n",
        "b=14\n",
        "c=12\n",
        "if(a>b and a>c):\n",
        "    print(\"a is bigger\")\n",
        "elif(b>a and b>c):\n",
        "    print(\"b is bigger\")\n",
        "else:\n",
        "    print(\"c is bigger\")"
      ]
    },
    {
      "cell_type": "code",
      "source": [
        "lower=2\n",
        "upper=10\n",
        "print(\"prime numbers between\",lower,\",\",upper)\n",
        "for num in range(lower, upper-1):\n",
        "    if num>1:\n",
        "        for i in range(2,num):\n",
        "            if(num%i)==0:\n",
        "                break\n",
        "        else:\n",
        "            print(num)"
      ],
      "metadata": {
        "id": "4jySoQLhD1-F",
        "outputId": "86bbf304-0bbe-45f9-8778-d02f0249fc86",
        "colab": {
          "base_uri": "https://localhost:8080/"
        }
      },
      "execution_count": null,
      "outputs": [
        {
          "output_type": "stream",
          "name": "stdout",
          "text": [
            "prime numbers between 2 , 10\n",
            "2\n",
            "3\n",
            "5\n",
            "7\n"
          ]
        }
      ]
    },
    {
      "cell_type": "code",
      "source": [
        "num1 = complex(2, 3)\n",
        "num2 = complex(4, 5)\n",
        "\n",
        "sum_result = num1 + num2\n",
        "product_result = num1 * num2\n",
        "\n",
        "print(\"First complex number:\", num1)\n",
        "print(\"Second complex number:\", num2)\n",
        "print(\"Sum:\", sum_result)\n",
        "print(\"Product:\", product_result)"
      ],
      "metadata": {
        "colab": {
          "base_uri": "https://localhost:8080/"
        },
        "id": "QmHq4RqEa-1x",
        "outputId": "ab3db635-e123-4028-ed4a-d7fab8407102"
      },
      "execution_count": 1,
      "outputs": [
        {
          "output_type": "stream",
          "name": "stdout",
          "text": [
            "First complex number: (2+3j)\n",
            "Second complex number: (4+5j)\n",
            "Sum: (6+8j)\n",
            "Product: (-7+22j)\n"
          ]
        }
      ]
    },
    {
      "cell_type": "code",
      "source": [
        "num = int(input(\"Enter a number to print it's multiplication table:\"))\n",
        "\n",
        "print(f\"\\nMultiplication table of {num}:\\n\")\n",
        "\n",
        "for i in range(1,11):\n",
        "    print(f\"{num} x {i} = {num * i}\")"
      ],
      "metadata": {
        "colab": {
          "base_uri": "https://localhost:8080/"
        },
        "id": "CGZvkuFgbEOv",
        "outputId": "038ed248-96db-4c1c-dd6f-505b6acd5c9e"
      },
      "execution_count": 2,
      "outputs": [
        {
          "output_type": "stream",
          "name": "stdout",
          "text": [
            "Enter a number to print it's multiplication table:4\n",
            "\n",
            "Multiplication table of 4:\n",
            "\n",
            "4 x 1 = 4\n",
            "4 x 2 = 8\n",
            "4 x 3 = 12\n",
            "4 x 4 = 16\n",
            "4 x 5 = 20\n",
            "4 x 6 = 24\n",
            "4 x 7 = 28\n",
            "4 x 8 = 32\n",
            "4 x 9 = 36\n",
            "4 x 10 = 40\n"
          ]
        }
      ]
    }
  ]
}